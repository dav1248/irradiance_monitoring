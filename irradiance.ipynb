{
 "cells": [
  {
   "cell_type": "markdown",
   "metadata": {},
   "source": [
    "# Irradiance analysis\n",
    "\n",
    "This notebook allows for quick daily irradiance file analysis and graph output. It takes an excel file as input."
   ]
  },
  {
   "cell_type": "markdown",
   "metadata": {},
   "source": [
    "---"
   ]
  },
  {
   "cell_type": "markdown",
   "metadata": {},
   "source": [
    "### Importing file"
   ]
  },
  {
   "cell_type": "code",
   "execution_count": null,
   "metadata": {},
   "outputs": [],
   "source": [
    "import pandas as pd\n",
    "import numpy as np\n",
    "import matplotlib.pyplot as plt\n",
    "import matplotlib.dates as mdates\n",
    "import seaborn as sns\n",
    "%matplotlib inline\n",
    "from datetime import datetime\n",
    "\n",
    "import requests\n",
    "import csv\n",
    "import time\n",
    "import re\n",
    "import datetime\n",
    "\n",
    "from urllib.request import urlopen\n",
    "from bs4 import BeautifulSoup"
   ]
  },
  {
   "cell_type": "markdown",
   "metadata": {},
   "source": [
    "---"
   ]
  },
  {
   "cell_type": "markdown",
   "metadata": {},
   "source": [
    "### Importing file\n"
   ]
  },
  {
   "cell_type": "code",
   "execution_count": null,
   "metadata": {},
   "outputs": [],
   "source": [
    "columns = ['date','time','p1c','p2c']\n",
    "crange1 = np.r_[0:2,15:17]\n",
    "time_interval = 5"
   ]
  },
  {
   "cell_type": "markdown",
   "metadata": {},
   "source": [
    "In the following cell the file path can be inputted:"
   ]
  },
  {
   "cell_type": "code",
   "execution_count": null,
   "metadata": {},
   "outputs": [],
   "source": [
    "irradiance = pd.read_csv('./data/1205.tsv','\\t') #INPUT TSV FILE NAME HERE\n"
   ]
  },
  {
   "cell_type": "code",
   "execution_count": null,
   "metadata": {},
   "outputs": [],
   "source": [
    "irradiance= irradiance.iloc[:,0:4]\n",
    "irradiance.columns = columns\n",
    "irradiance = irradiance.loc[pd.notnull(irradiance['time'])]\n",
    "irradiance['p1c']=irradiance['p1c'].apply(lambda x:x*0.948)\n",
    "irradiance['p2c']=irradiance['p2c'].apply(lambda x:x*0.93)\n",
    "irradiance['date']=pd.to_datetime(irradiance['date'])\n",
    "irradiance['time'] = pd.to_datetime(irradiance['time'],format= '%H:%M:%S' ).dt.time\n",
    "irradiance.head()"
   ]
  },
  {
   "cell_type": "markdown",
   "metadata": {},
   "source": [
    "---"
   ]
  },
  {
   "cell_type": "markdown",
   "metadata": {},
   "source": [
    "### Analysis"
   ]
  },
  {
   "cell_type": "code",
   "execution_count": null,
   "metadata": {},
   "outputs": [],
   "source": [
    "ghi = round(irradiance['p1c'].sum()*time_interval/3600,3)\n",
    "ghi"
   ]
  },
  {
   "cell_type": "code",
   "execution_count": null,
   "metadata": {},
   "outputs": [],
   "source": [
    "fig, ax = plt.subplots(figsize=(12,5))\n",
    "irradiance['p1cR'] = irradiance['p1c'].rolling(200, center=True).mean()\n",
    "x_dt = [ datetime.datetime.combine(irradiance['date'][1], t) for t in irradiance['time'] ]\n",
    "ax.plot(x_dt,irradiance['p1cR'], linewidth=2) # plotting\n",
    "ax.fill_between(x_dt,irradiance['p1cR']) # filling under the curve\n",
    "\n",
    "\n",
    "props = dict(boxstyle='round', facecolor='white', alpha=0.5)\n",
    "\n",
    "# text box \n",
    "ax.text(0.73, 0.85, 'GHI: ' + str(ghi) + ' [Wh/m2]', transform=ax.transAxes, fontsize=12, bbox=props)\n",
    "# title\n",
    "ax.set_title(\"GHI for the day of \"+ irradiance['date'][1].strftime(\"%m.%d.%Y\"))\n",
    "\n",
    "# axis labels\n",
    "ax.set_ylabel('Irradiance [W/m2]', )\n",
    "ax.set_xlabel('Time')\n",
    "myFmt = mdates.DateFormatter('%H:%M')\n",
    "ax.yaxis.grid( color='grey', linestyle='-', linewidth=0.3, alpha=0.9)\n",
    "ax.xaxis.set_major_formatter(myFmt)\n",
    "\n",
    "# output\n",
    "fig.savefig(\"figures/\"+ irradiance['date'][1].strftime(\"%m%d%y\") + \".png\")\n",
    "plt.show()\n"
   ]
  },
  {
   "cell_type": "code",
   "execution_count": null,
   "metadata": {},
   "outputs": [],
   "source": []
  }
 ],
 "metadata": {
  "kernelspec": {
   "display_name": "Python 3",
   "language": "python",
   "name": "python3"
  },
  "language_info": {
   "codemirror_mode": {
    "name": "ipython",
    "version": 3
   },
   "file_extension": ".py",
   "mimetype": "text/x-python",
   "name": "python",
   "nbconvert_exporter": "python",
   "pygments_lexer": "ipython3",
   "version": "3.8.1"
  }
 },
 "nbformat": 4,
 "nbformat_minor": 4
}
